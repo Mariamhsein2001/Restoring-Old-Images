{
  "cells": [
    {
      "cell_type": "code",
      "execution_count": null,
      "metadata": {
        "id": "tidR9mI7NzPq"
      },
      "outputs": [],
      "source": [
        "!pip install dominate"
      ]
    },
    {
      "cell_type": "code",
      "execution_count": null,
      "metadata": {
        "id": "9LzZCsSiyhFv"
      },
      "outputs": [],
      "source": [
        "!pip install visdom\n"
      ]
    },
    {
      "cell_type": "code",
      "execution_count": null,
      "metadata": {
        "id": "oLRaxnRWPQQd"
      },
      "outputs": [],
      "source": [
        "\n",
        "!git clone https://github.com/junyanz/pytorch-CycleGAN-and-pix2pix"
      ]
    },
    {
      "cell_type": "code",
      "execution_count": null,
      "metadata": {
        "id": "wGsWc2oNgHLk"
      },
      "outputs": [],
      "source": [
        "%cd pytorch-CycleGAN-and-pix2pix"
      ]
    },
    {
      "cell_type": "code",
      "execution_count": null,
      "metadata": {
        "id": "WVZZgEuYXPVl"
      },
      "outputs": [],
      "source": [
        "from google.colab import drive\n",
        "drive.mount('/content/drive')"
      ]
    },
    {
      "cell_type": "markdown",
      "metadata": {
        "id": "OM113tquadTg"
      },
      "source": [
        "# Training"
      ]
    },
    {
      "cell_type": "code",
      "execution_count": null,
      "metadata": {
        "colab": {
          "base_uri": "https://localhost:8080/"
        },
        "collapsed": true,
        "id": "QhVkLqDU_7Qc",
        "outputId": "909e3227-c4b2-4e72-c2f4-862fd5d26b33"
      },
      "outputs": [],
      "source": [
        "!python /content/pytorch-CycleGAN-and-pix2pix/train.py --dataroot /content/drive/MyDrive/ --name scratch_restoration_experiment --model pix2pix --direction AtoB --dataset_mode aligned --gpu_ids 0 --display_id -1 --checkpoints_dir /content/drive/MyDrive/checkpoints_2/ --batch_size 2 --continue_train --epoch_count 189\n"
      ]
    },
    {
      "cell_type": "markdown",
      "metadata": {
        "id": "-JBPolmzGe-o"
      },
      "source": [
        "# Testing"
      ]
    },
    {
      "cell_type": "code",
      "execution_count": null,
      "metadata": {
        "colab": {
          "base_uri": "https://localhost:8080/"
        },
        "collapsed": true,
        "id": "CbRtImdkE7d6",
        "outputId": "f3a5f1e1-4c84-4a40-c277-991a1c0ed8e3"
      },
      "outputs": [],
      "source": [
        "!python /content/pytorch-CycleGAN-and-pix2pix/test.py --gpu_ids 0 --dataroot /content/drive/MyDrive/ --name scratch_restoration_experiment --model pix2pix --direction AtoB --dataset_mode aligned   --results_dir /content/drive/MyDrive/results_1/ --checkpoints_dir /content/drive/MyDrive/checkpoints/ --phase test --num_test 238\n"
      ]
    },
    {
      "cell_type": "markdown",
      "metadata": {
        "id": "wpys0MVYGUWg"
      },
      "source": [
        "# Single Image Inference"
      ]
    },
    {
      "cell_type": "code",
      "execution_count": null,
      "metadata": {
        "colab": {
          "base_uri": "https://localhost:8080/"
        },
        "collapsed": true,
        "id": "bVUavCc-vUiH",
        "outputId": "4a9b2222-e1d5-473d-daf7-f0a42f0a958c"
      },
      "outputs": [],
      "source": [
        "!python /content/pytorch-CycleGAN-and-pix2pix/test.py --dataroot /content/data/test --name scratch_restoration_experiment --model pix2pix --gpu_ids 0 --checkpoints_dir /content/drive/MyDrive/checkpoints/ --results_dir /content/drive/MyDrive/results_testing_test --phase test --eval --batch_size 1 --dataset_mode single --netG unet_256 --no_flip\n"
      ]
    },
    {
      "cell_type": "code",
      "execution_count": null,
      "metadata": {
        "colab": {
          "background_save": true
        },
        "id": "7OJ6M1B0xyFV",
        "outputId": "402cc396-eb1c-43b0-e6bb-cd9642495c73"
      },
      "outputs": [],
      "source": [
        "import os\n",
        "import matplotlib.pyplot as plt\n",
        "from PIL import Image\n",
        "\n",
        "# Paths to your images\n",
        "fake_folder_path = '/content/drive/MyDrive/results_testing_2/scratch_restoration_experiment/test_latest/images'\n",
        "real_folder_path = '/content/drive/MyDrive/results_testing_2/scratch_restoration_experiment/test_latest/images'\n",
        "\n",
        "# Get lists of image files\n",
        "fake_images = sorted([f for f in os.listdir(fake_folder_path) if f.startswith('fake_B_test_')])\n",
        "real_images = sorted([f for f in os.listdir(real_folder_path) if f.startswith('real_A_test_')])\n",
        "\n",
        "# Ensure both folders have the same number of images\n",
        "assert len(fake_images) == len(real_images), \"Mismatch in number of images\"\n",
        "\n",
        "# Set up the figure for displaying images\n",
        "num_images = len(fake_images)\n",
        "fig, axes = plt.subplots(num_images, 2, figsize=(12, 6 * num_images))  # Adjust figure size based on number of images\n",
        "\n",
        "# Loop through each image pair\n",
        "for i in range(num_images):\n",
        "    # Load images\n",
        "    fake_image = Image.open(os.path.join(fake_folder_path, fake_images[i])).convert('RGB')\n",
        "    real_image = Image.open(os.path.join(real_folder_path, real_images[i])).convert('RGB')\n",
        "\n",
        "    # Display real image\n",
        "    axes[i, 0].imshow(real_image)\n",
        "    axes[i, 0].axis('off')  # Hide axes\n",
        "    axes[i, 0].set_title(f'Real Image {i + 1}')\n",
        "\n",
        "    # Display fake image\n",
        "    axes[i, 1].imshow(fake_image)\n",
        "    axes[i, 1].axis('off')  # Hide axes\n",
        "    axes[i, 1].set_title(f'Fake Image {i + 1}')\n",
        "\n",
        "# Adjust layout\n",
        "plt.tight_layout()\n",
        "# Show the images\n",
        "plt.show()\n"
      ]
    },
    {
      "cell_type": "markdown",
      "metadata": {
        "id": "mivyvp3qGA6v"
      },
      "source": [
        "# Evaluation"
      ]
    },
    {
      "cell_type": "markdown",
      "metadata": {
        "id": "sVkHt4GjGGu-"
      },
      "source": [
        "###PSNR (Peak Signal-to-Noise Ratio)"
      ]
    },
    {
      "cell_type": "code",
      "execution_count": null,
      "metadata": {
        "colab": {
          "base_uri": "https://localhost:8080/"
        },
        "id": "D4E1KQx8dEkm",
        "outputId": "e2bc2820-13e1-4e92-8b4a-c0ae8f720584"
      },
      "outputs": [
        {
          "name": "stdout",
          "output_type": "stream",
          "text": [
            "Average PSNR for all images: 30.03188614241356\n"
          ]
        }
      ],
      "source": [
        "import os\n",
        "import cv2\n",
        "import numpy as np\n",
        "\n",
        "# Function to calculate PSNR\n",
        "def calculate_psnr(real_image, fake_image):\n",
        "    mse = np.mean((real_image - fake_image) ** 2)\n",
        "    if mse == 0:\n",
        "        return 100  # Perfect match\n",
        "    PIXEL_MAX = 255.0\n",
        "    return 20 * np.log10(PIXEL_MAX / np.sqrt(mse))\n",
        "\n",
        "# Path to the directory containing images\n",
        "image_folder = \"/content/drive/MyDrive/results_2/scratch_restoration_experiment/test_latest/images\"\n",
        "\n",
        "# Lists to store PSNR values\n",
        "psnr_values = []\n",
        "\n",
        "# Loop over the images in the folder\n",
        "for filename in os.listdir(image_folder):\n",
        "    if filename.endswith(\"_real_B.png\"):\n",
        "        # Get the corresponding fake image name\n",
        "        fake_filename = filename.replace(\"_real_B.png\", \"_fake_B.png\")\n",
        "\n",
        "        real_image_path = os.path.join(image_folder, filename)\n",
        "        fake_image_path = os.path.join(image_folder, fake_filename)\n",
        "\n",
        "        # Check if the corresponding fake image exists\n",
        "        if os.path.exists(fake_image_path):\n",
        "            # Read the real and fake images\n",
        "            real_image = cv2.imread(real_image_path, cv2.IMREAD_COLOR)\n",
        "            fake_image = cv2.imread(fake_image_path, cv2.IMREAD_COLOR)\n",
        "\n",
        "            # Ensure both images are the same size\n",
        "            if real_image.shape == fake_image.shape:\n",
        "                # Calculate PSNR\n",
        "                psnr = calculate_psnr(real_image, fake_image)\n",
        "                psnr_values.append(psnr)\n",
        "            else:\n",
        "                print(f\"Image size mismatch between {filename} and {fake_filename}\")\n",
        "\n",
        "# Calculate the average PSNR\n",
        "if psnr_values:\n",
        "    average_psnr = np.mean(psnr_values)\n",
        "    print(f\"Average PSNR for all images: {average_psnr}\")\n",
        "else:\n",
        "    print(\"No valid image pairs found.\")\n"
      ]
    },
    {
      "cell_type": "markdown",
      "metadata": {
        "id": "sCV-RF0SGMtB"
      },
      "source": [
        "###SSIM (Structural Similarity Index)"
      ]
    },
    {
      "cell_type": "code",
      "execution_count": null,
      "metadata": {
        "colab": {
          "base_uri": "https://localhost:8080/"
        },
        "id": "L1nxLs8tA5xz",
        "outputId": "f90425c5-a3fc-4916-9361-fc904b85e1f4"
      },
      "outputs": [
        {
          "name": "stdout",
          "output_type": "stream",
          "text": [
            "Average SSIM: 0.8583425579409666\n"
          ]
        },
        {
          "data": {
            "text/plain": [
              "0.8583425579409666"
            ]
          },
          "execution_count": 7,
          "metadata": {},
          "output_type": "execute_result"
        }
      ],
      "source": [
        "import os\n",
        "import cv2\n",
        "import numpy as np\n",
        "from skimage.metrics import structural_similarity as ssim\n",
        "\n",
        "def calculate_ssim(img1, img2):\n",
        "    # Convert images to grayscale for SSIM calculation (optional)\n",
        "    img1_gray = cv2.cvtColor(img1, cv2.COLOR_BGR2GRAY)\n",
        "    img2_gray = cv2.cvtColor(img2, cv2.COLOR_BGR2GRAY)\n",
        "    return ssim(img1_gray, img2_gray)\n",
        "\n",
        "def evaluate_ssim(folder_path):\n",
        "    total_ssim = 0.0\n",
        "    num_images = 0\n",
        "\n",
        "    # Loop through the folder to get image pairs\n",
        "    for filename in os.listdir(folder_path):\n",
        "        if 'fake_B' in filename:  # Look for the fake_B image\n",
        "            fake_image_path = os.path.join(folder_path, filename)\n",
        "            real_image_path = fake_image_path.replace('fake_B', 'real_B')  # Find the corresponding real_B image\n",
        "\n",
        "            if os.path.exists(real_image_path):\n",
        "                # Load the images\n",
        "                fake_img = cv2.imread(fake_image_path)\n",
        "                real_img = cv2.imread(real_image_path)\n",
        "\n",
        "                # Compute SSIM for the image pair\n",
        "                score = calculate_ssim(real_img, fake_img)\n",
        "                total_ssim += score\n",
        "                num_images += 1\n",
        "\n",
        "    if num_images == 0:\n",
        "        print(\"No valid image pairs found.\")\n",
        "        return 0\n",
        "\n",
        "    # Calculate the average SSIM\n",
        "    average_ssim = total_ssim / num_images\n",
        "    print(f'Average SSIM: {average_ssim}')\n",
        "    return average_ssim\n",
        "\n",
        "# Set the folder path where the images are stored\n",
        "folder_path = '/content/drive/MyDrive/results_2/scratch_restoration_experiment/test_latest/images'\n",
        "evaluate_ssim(folder_path)\n"
      ]
    },
    {
      "cell_type": "code",
      "execution_count": null,
      "metadata": {
        "id": "fbS7gKDwBbRF"
      },
      "outputs": [],
      "source": []
    }
  ],
  "metadata": {
    "accelerator": "GPU",
    "colab": {
      "gpuType": "T4",
      "provenance": []
    },
    "kernelspec": {
      "display_name": "Python 3",
      "name": "python3"
    },
    "language_info": {
      "name": "python"
    }
  },
  "nbformat": 4,
  "nbformat_minor": 0
}
